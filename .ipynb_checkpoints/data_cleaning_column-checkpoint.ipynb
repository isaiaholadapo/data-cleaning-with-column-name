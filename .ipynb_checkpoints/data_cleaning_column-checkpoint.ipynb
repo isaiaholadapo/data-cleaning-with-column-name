{
 "cells": [
  {
   "cell_type": "code",
   "execution_count": 1,
   "metadata": {},
   "outputs": [],
   "source": [
    "import pandas as pd"
   ]
  },
  {
   "cell_type": "code",
   "execution_count": 17,
   "metadata": {},
   "outputs": [],
   "source": [
    "dataset = pd.read_csv('data/raw_dataset.csv')"
   ]
  },
  {
   "cell_type": "code",
   "execution_count": 18,
   "metadata": {},
   "outputs": [
    {
     "data": {
      "text/html": [
       "<div>\n",
       "<style scoped>\n",
       "    .dataframe tbody tr th:only-of-type {\n",
       "        vertical-align: middle;\n",
       "    }\n",
       "\n",
       "    .dataframe tbody tr th {\n",
       "        vertical-align: top;\n",
       "    }\n",
       "\n",
       "    .dataframe thead th {\n",
       "        text-align: right;\n",
       "    }\n",
       "</style>\n",
       "<table border=\"1\" class=\"dataframe\">\n",
       "  <thead>\n",
       "    <tr style=\"text-align: right;\">\n",
       "      <th></th>\n",
       "      <th>First Name</th>\n",
       "      <th>Last name</th>\n",
       "      <th>Age</th>\n",
       "      <th>SALARY</th>\n",
       "      <th>STREET Address1</th>\n",
       "      <th>STREET Address2</th>\n",
       "      <th>STREET Address3</th>\n",
       "      <th>email</th>\n",
       "    </tr>\n",
       "  </thead>\n",
       "  <tbody>\n",
       "    <tr>\n",
       "      <td>0</td>\n",
       "      <td>Joel</td>\n",
       "      <td>Padilla</td>\n",
       "      <td>10/28/2019</td>\n",
       "      <td>$92.32</td>\n",
       "      <td>431-6530 Eu, Rd.</td>\n",
       "      <td>364-2264 Augue Rd.</td>\n",
       "      <td>P.O. Box 864, 3882 Orci Street</td>\n",
       "      <td>eu@nibh.com</td>\n",
       "    </tr>\n",
       "    <tr>\n",
       "      <td>1</td>\n",
       "      <td>Fritz</td>\n",
       "      <td>Tyler</td>\n",
       "      <td>09/27/2019</td>\n",
       "      <td>$83.91</td>\n",
       "      <td>Ap #377-2267 Ac Av.</td>\n",
       "      <td>979-2228 Vel Ave</td>\n",
       "      <td>9865 Eu Av.</td>\n",
       "      <td>est.ac.mattis@malesuadafringilla.net</td>\n",
       "    </tr>\n",
       "    <tr>\n",
       "      <td>2</td>\n",
       "      <td>Wing</td>\n",
       "      <td>Phelps</td>\n",
       "      <td>02/18/2019</td>\n",
       "      <td>$17.15</td>\n",
       "      <td>Ap #545-5786 Pulvinar Ave</td>\n",
       "      <td>Ap #973-5781 Sagittis Avenue</td>\n",
       "      <td>9959 Ut St.</td>\n",
       "      <td>dolor@cubilia.net</td>\n",
       "    </tr>\n",
       "    <tr>\n",
       "      <td>3</td>\n",
       "      <td>Ryan</td>\n",
       "      <td>Ross</td>\n",
       "      <td>05/21/2019</td>\n",
       "      <td>$45.97</td>\n",
       "      <td>634-7858 Id Road</td>\n",
       "      <td>907-8824 Fringilla Ave</td>\n",
       "      <td>318-5271 In Ave</td>\n",
       "      <td>interdum.libero.dui@vitaeerat.com</td>\n",
       "    </tr>\n",
       "    <tr>\n",
       "      <td>4</td>\n",
       "      <td>Drake</td>\n",
       "      <td>Day</td>\n",
       "      <td>01/09/2020</td>\n",
       "      <td>$84.38</td>\n",
       "      <td>999-8221 Tempor, St.</td>\n",
       "      <td>297-6939 Turpis. Ave</td>\n",
       "      <td>P.O. Box 638, 6932 Laoreet Rd.</td>\n",
       "      <td>nulla.Integer.vulputate@liberoat.ca</td>\n",
       "    </tr>\n",
       "  </tbody>\n",
       "</table>\n",
       "</div>"
      ],
      "text/plain": [
       "  First Name Last name         Age  SALARY            STREET Address1  \\\n",
       "0       Joel   Padilla  10/28/2019  $92.32           431-6530 Eu, Rd.   \n",
       "1      Fritz     Tyler  09/27/2019  $83.91        Ap #377-2267 Ac Av.   \n",
       "2       Wing    Phelps  02/18/2019  $17.15  Ap #545-5786 Pulvinar Ave   \n",
       "3       Ryan      Ross  05/21/2019  $45.97           634-7858 Id Road   \n",
       "4      Drake       Day  01/09/2020  $84.38       999-8221 Tempor, St.   \n",
       "\n",
       "                STREET Address2                 STREET Address3  \\\n",
       "0            364-2264 Augue Rd.  P.O. Box 864, 3882 Orci Street   \n",
       "1              979-2228 Vel Ave                     9865 Eu Av.   \n",
       "2  Ap #973-5781 Sagittis Avenue                     9959 Ut St.   \n",
       "3        907-8824 Fringilla Ave                 318-5271 In Ave   \n",
       "4          297-6939 Turpis. Ave  P.O. Box 638, 6932 Laoreet Rd.   \n",
       "\n",
       "                                  email  \n",
       "0                           eu@nibh.com  \n",
       "1  est.ac.mattis@malesuadafringilla.net  \n",
       "2                     dolor@cubilia.net  \n",
       "3     interdum.libero.dui@vitaeerat.com  \n",
       "4   nulla.Integer.vulputate@liberoat.ca  "
      ]
     },
     "execution_count": 18,
     "metadata": {},
     "output_type": "execute_result"
    }
   ],
   "source": [
    "dataset.head()"
   ]
  },
  {
   "cell_type": "code",
   "execution_count": 19,
   "metadata": {},
   "outputs": [
    {
     "data": {
      "text/plain": [
       "Index(['First Name', 'Last name', 'Age', 'SALARY', 'STREET Address1',\n",
       "       'STREET Address2', 'STREET Address3', 'email'],\n",
       "      dtype='object')"
      ]
     },
     "execution_count": 19,
     "metadata": {},
     "output_type": "execute_result"
    }
   ],
   "source": [
    "dataset.columns"
   ]
  },
  {
   "cell_type": "code",
   "execution_count": 20,
   "metadata": {},
   "outputs": [],
   "source": [
    "dataset.columns = dataset.columns.str.lower()\n",
    "#dataset.columns = map(str.lower, dataset.columns)"
   ]
  },
  {
   "cell_type": "code",
   "execution_count": 22,
   "metadata": {},
   "outputs": [
    {
     "data": {
      "text/plain": [
       "Index(['first name', 'last name', 'age', 'salary', 'street address1',\n",
       "       'street address2', 'street address3', 'email'],\n",
       "      dtype='object')"
      ]
     },
     "execution_count": 22,
     "metadata": {},
     "output_type": "execute_result"
    }
   ],
   "source": [
    "dataset.columns"
   ]
  },
  {
   "cell_type": "code",
   "execution_count": 23,
   "metadata": {},
   "outputs": [],
   "source": [
    "dataset.columns = dataset.columns.str.replace(\" \", \"_\")"
   ]
  },
  {
   "cell_type": "code",
   "execution_count": 24,
   "metadata": {},
   "outputs": [
    {
     "data": {
      "text/plain": [
       "Index(['first_name', 'last_name', 'age', 'salary', 'street_address1',\n",
       "       'street_address2', 'street_address3', 'email'],\n",
       "      dtype='object')"
      ]
     },
     "execution_count": 24,
     "metadata": {},
     "output_type": "execute_result"
    }
   ],
   "source": [
    "dataset.columns"
   ]
  },
  {
   "cell_type": "code",
   "execution_count": 25,
   "metadata": {},
   "outputs": [
    {
     "data": {
      "text/html": [
       "<div>\n",
       "<style scoped>\n",
       "    .dataframe tbody tr th:only-of-type {\n",
       "        vertical-align: middle;\n",
       "    }\n",
       "\n",
       "    .dataframe tbody tr th {\n",
       "        vertical-align: top;\n",
       "    }\n",
       "\n",
       "    .dataframe thead th {\n",
       "        text-align: right;\n",
       "    }\n",
       "</style>\n",
       "<table border=\"1\" class=\"dataframe\">\n",
       "  <thead>\n",
       "    <tr style=\"text-align: right;\">\n",
       "      <th></th>\n",
       "      <th>first_name</th>\n",
       "      <th>last_name</th>\n",
       "      <th>age</th>\n",
       "      <th>salary</th>\n",
       "      <th>street_address1</th>\n",
       "      <th>street_address2</th>\n",
       "      <th>street_address3</th>\n",
       "      <th>email</th>\n",
       "    </tr>\n",
       "  </thead>\n",
       "  <tbody>\n",
       "    <tr>\n",
       "      <td>0</td>\n",
       "      <td>Joel</td>\n",
       "      <td>Padilla</td>\n",
       "      <td>10/28/2019</td>\n",
       "      <td>$92.32</td>\n",
       "      <td>431-6530 Eu, Rd.</td>\n",
       "      <td>364-2264 Augue Rd.</td>\n",
       "      <td>P.O. Box 864, 3882 Orci Street</td>\n",
       "      <td>eu@nibh.com</td>\n",
       "    </tr>\n",
       "    <tr>\n",
       "      <td>1</td>\n",
       "      <td>Fritz</td>\n",
       "      <td>Tyler</td>\n",
       "      <td>09/27/2019</td>\n",
       "      <td>$83.91</td>\n",
       "      <td>Ap #377-2267 Ac Av.</td>\n",
       "      <td>979-2228 Vel Ave</td>\n",
       "      <td>9865 Eu Av.</td>\n",
       "      <td>est.ac.mattis@malesuadafringilla.net</td>\n",
       "    </tr>\n",
       "    <tr>\n",
       "      <td>2</td>\n",
       "      <td>Wing</td>\n",
       "      <td>Phelps</td>\n",
       "      <td>02/18/2019</td>\n",
       "      <td>$17.15</td>\n",
       "      <td>Ap #545-5786 Pulvinar Ave</td>\n",
       "      <td>Ap #973-5781 Sagittis Avenue</td>\n",
       "      <td>9959 Ut St.</td>\n",
       "      <td>dolor@cubilia.net</td>\n",
       "    </tr>\n",
       "    <tr>\n",
       "      <td>3</td>\n",
       "      <td>Ryan</td>\n",
       "      <td>Ross</td>\n",
       "      <td>05/21/2019</td>\n",
       "      <td>$45.97</td>\n",
       "      <td>634-7858 Id Road</td>\n",
       "      <td>907-8824 Fringilla Ave</td>\n",
       "      <td>318-5271 In Ave</td>\n",
       "      <td>interdum.libero.dui@vitaeerat.com</td>\n",
       "    </tr>\n",
       "    <tr>\n",
       "      <td>4</td>\n",
       "      <td>Drake</td>\n",
       "      <td>Day</td>\n",
       "      <td>01/09/2020</td>\n",
       "      <td>$84.38</td>\n",
       "      <td>999-8221 Tempor, St.</td>\n",
       "      <td>297-6939 Turpis. Ave</td>\n",
       "      <td>P.O. Box 638, 6932 Laoreet Rd.</td>\n",
       "      <td>nulla.Integer.vulputate@liberoat.ca</td>\n",
       "    </tr>\n",
       "  </tbody>\n",
       "</table>\n",
       "</div>"
      ],
      "text/plain": [
       "  first_name last_name         age  salary            street_address1  \\\n",
       "0       Joel   Padilla  10/28/2019  $92.32           431-6530 Eu, Rd.   \n",
       "1      Fritz     Tyler  09/27/2019  $83.91        Ap #377-2267 Ac Av.   \n",
       "2       Wing    Phelps  02/18/2019  $17.15  Ap #545-5786 Pulvinar Ave   \n",
       "3       Ryan      Ross  05/21/2019  $45.97           634-7858 Id Road   \n",
       "4      Drake       Day  01/09/2020  $84.38       999-8221 Tempor, St.   \n",
       "\n",
       "                street_address2                 street_address3  \\\n",
       "0            364-2264 Augue Rd.  P.O. Box 864, 3882 Orci Street   \n",
       "1              979-2228 Vel Ave                     9865 Eu Av.   \n",
       "2  Ap #973-5781 Sagittis Avenue                     9959 Ut St.   \n",
       "3        907-8824 Fringilla Ave                 318-5271 In Ave   \n",
       "4          297-6939 Turpis. Ave  P.O. Box 638, 6932 Laoreet Rd.   \n",
       "\n",
       "                                  email  \n",
       "0                           eu@nibh.com  \n",
       "1  est.ac.mattis@malesuadafringilla.net  \n",
       "2                     dolor@cubilia.net  \n",
       "3     interdum.libero.dui@vitaeerat.com  \n",
       "4   nulla.Integer.vulputate@liberoat.ca  "
      ]
     },
     "execution_count": 25,
     "metadata": {},
     "output_type": "execute_result"
    }
   ],
   "source": [
    "dataset.head()"
   ]
  },
  {
   "cell_type": "code",
   "execution_count": 27,
   "metadata": {},
   "outputs": [],
   "source": [
    "dataset.rename(columns = {\"age\": \"date_of_birth\"}, inplace = True)"
   ]
  },
  {
   "cell_type": "code",
   "execution_count": 28,
   "metadata": {},
   "outputs": [
    {
     "data": {
      "text/html": [
       "<div>\n",
       "<style scoped>\n",
       "    .dataframe tbody tr th:only-of-type {\n",
       "        vertical-align: middle;\n",
       "    }\n",
       "\n",
       "    .dataframe tbody tr th {\n",
       "        vertical-align: top;\n",
       "    }\n",
       "\n",
       "    .dataframe thead th {\n",
       "        text-align: right;\n",
       "    }\n",
       "</style>\n",
       "<table border=\"1\" class=\"dataframe\">\n",
       "  <thead>\n",
       "    <tr style=\"text-align: right;\">\n",
       "      <th></th>\n",
       "      <th>first_name</th>\n",
       "      <th>last_name</th>\n",
       "      <th>date_of_birth</th>\n",
       "      <th>salary</th>\n",
       "      <th>street_address1</th>\n",
       "      <th>street_address2</th>\n",
       "      <th>street_address3</th>\n",
       "      <th>email</th>\n",
       "    </tr>\n",
       "  </thead>\n",
       "  <tbody>\n",
       "    <tr>\n",
       "      <td>0</td>\n",
       "      <td>Joel</td>\n",
       "      <td>Padilla</td>\n",
       "      <td>10/28/2019</td>\n",
       "      <td>$92.32</td>\n",
       "      <td>431-6530 Eu, Rd.</td>\n",
       "      <td>364-2264 Augue Rd.</td>\n",
       "      <td>P.O. Box 864, 3882 Orci Street</td>\n",
       "      <td>eu@nibh.com</td>\n",
       "    </tr>\n",
       "    <tr>\n",
       "      <td>1</td>\n",
       "      <td>Fritz</td>\n",
       "      <td>Tyler</td>\n",
       "      <td>09/27/2019</td>\n",
       "      <td>$83.91</td>\n",
       "      <td>Ap #377-2267 Ac Av.</td>\n",
       "      <td>979-2228 Vel Ave</td>\n",
       "      <td>9865 Eu Av.</td>\n",
       "      <td>est.ac.mattis@malesuadafringilla.net</td>\n",
       "    </tr>\n",
       "    <tr>\n",
       "      <td>2</td>\n",
       "      <td>Wing</td>\n",
       "      <td>Phelps</td>\n",
       "      <td>02/18/2019</td>\n",
       "      <td>$17.15</td>\n",
       "      <td>Ap #545-5786 Pulvinar Ave</td>\n",
       "      <td>Ap #973-5781 Sagittis Avenue</td>\n",
       "      <td>9959 Ut St.</td>\n",
       "      <td>dolor@cubilia.net</td>\n",
       "    </tr>\n",
       "    <tr>\n",
       "      <td>3</td>\n",
       "      <td>Ryan</td>\n",
       "      <td>Ross</td>\n",
       "      <td>05/21/2019</td>\n",
       "      <td>$45.97</td>\n",
       "      <td>634-7858 Id Road</td>\n",
       "      <td>907-8824 Fringilla Ave</td>\n",
       "      <td>318-5271 In Ave</td>\n",
       "      <td>interdum.libero.dui@vitaeerat.com</td>\n",
       "    </tr>\n",
       "    <tr>\n",
       "      <td>4</td>\n",
       "      <td>Drake</td>\n",
       "      <td>Day</td>\n",
       "      <td>01/09/2020</td>\n",
       "      <td>$84.38</td>\n",
       "      <td>999-8221 Tempor, St.</td>\n",
       "      <td>297-6939 Turpis. Ave</td>\n",
       "      <td>P.O. Box 638, 6932 Laoreet Rd.</td>\n",
       "      <td>nulla.Integer.vulputate@liberoat.ca</td>\n",
       "    </tr>\n",
       "  </tbody>\n",
       "</table>\n",
       "</div>"
      ],
      "text/plain": [
       "  first_name last_name date_of_birth  salary            street_address1  \\\n",
       "0       Joel   Padilla    10/28/2019  $92.32           431-6530 Eu, Rd.   \n",
       "1      Fritz     Tyler    09/27/2019  $83.91        Ap #377-2267 Ac Av.   \n",
       "2       Wing    Phelps    02/18/2019  $17.15  Ap #545-5786 Pulvinar Ave   \n",
       "3       Ryan      Ross    05/21/2019  $45.97           634-7858 Id Road   \n",
       "4      Drake       Day    01/09/2020  $84.38       999-8221 Tempor, St.   \n",
       "\n",
       "                street_address2                 street_address3  \\\n",
       "0            364-2264 Augue Rd.  P.O. Box 864, 3882 Orci Street   \n",
       "1              979-2228 Vel Ave                     9865 Eu Av.   \n",
       "2  Ap #973-5781 Sagittis Avenue                     9959 Ut St.   \n",
       "3        907-8824 Fringilla Ave                 318-5271 In Ave   \n",
       "4          297-6939 Turpis. Ave  P.O. Box 638, 6932 Laoreet Rd.   \n",
       "\n",
       "                                  email  \n",
       "0                           eu@nibh.com  \n",
       "1  est.ac.mattis@malesuadafringilla.net  \n",
       "2                     dolor@cubilia.net  \n",
       "3     interdum.libero.dui@vitaeerat.com  \n",
       "4   nulla.Integer.vulputate@liberoat.ca  "
      ]
     },
     "execution_count": 28,
     "metadata": {},
     "output_type": "execute_result"
    }
   ],
   "source": [
    "dataset.head()"
   ]
  },
  {
   "cell_type": "code",
   "execution_count": 29,
   "metadata": {},
   "outputs": [],
   "source": [
    "dataset.columns.values[7] = \"Email Address\""
   ]
  },
  {
   "cell_type": "code",
   "execution_count": 31,
   "metadata": {},
   "outputs": [
    {
     "data": {
      "text/plain": [
       "Index(['first_name', 'last_name', 'date_of_birth', 'salary', 'street_address1',\n",
       "       'street_address2', 'street_address3', 'Email Address'],\n",
       "      dtype='object')"
      ]
     },
     "execution_count": 31,
     "metadata": {},
     "output_type": "execute_result"
    }
   ],
   "source": [
    "dataset.columns"
   ]
  },
  {
   "cell_type": "code",
   "execution_count": 32,
   "metadata": {},
   "outputs": [],
   "source": [
    "dataset.columns = dataset.columns.str.lower()"
   ]
  },
  {
   "cell_type": "code",
   "execution_count": 33,
   "metadata": {},
   "outputs": [
    {
     "data": {
      "text/plain": [
       "Index(['first_name', 'last_name', 'date_of_birth', 'salary', 'street_address1',\n",
       "       'street_address2', 'street_address3', 'email address'],\n",
       "      dtype='object')"
      ]
     },
     "execution_count": 33,
     "metadata": {},
     "output_type": "execute_result"
    }
   ],
   "source": [
    "dataset.columns"
   ]
  },
  {
   "cell_type": "code",
   "execution_count": 34,
   "metadata": {},
   "outputs": [],
   "source": [
    "dataset.columns = dataset.columns.str.replace(\" \", \"_\")"
   ]
  },
  {
   "cell_type": "code",
   "execution_count": 35,
   "metadata": {},
   "outputs": [
    {
     "data": {
      "text/plain": [
       "Index(['first_name', 'last_name', 'date_of_birth', 'salary', 'street_address1',\n",
       "       'street_address2', 'street_address3', 'email_address'],\n",
       "      dtype='object')"
      ]
     },
     "execution_count": 35,
     "metadata": {},
     "output_type": "execute_result"
    }
   ],
   "source": [
    "dataset.columns"
   ]
  },
  {
   "cell_type": "code",
   "execution_count": 38,
   "metadata": {},
   "outputs": [],
   "source": [
    " new_data = dataset.columns.difference(['street_address3'])"
   ]
  },
  {
   "cell_type": "code",
   "execution_count": 41,
   "metadata": {},
   "outputs": [
    {
     "data": {
      "text/plain": [
       "Index(['date_of_birth', 'email_address', 'first_name', 'last_name', 'salary',\n",
       "       'street_address1', 'street_address2'],\n",
       "      dtype='object')"
      ]
     },
     "execution_count": 41,
     "metadata": {},
     "output_type": "execute_result"
    }
   ],
   "source": [
    "new_data"
   ]
  },
  {
   "cell_type": "code",
   "execution_count": 42,
   "metadata": {},
   "outputs": [
    {
     "data": {
      "text/plain": [
       "Index(['street_address1', 'street_address2', 'street_address3',\n",
       "       'email_address'],\n",
       "      dtype='object')"
      ]
     },
     "execution_count": 42,
     "metadata": {},
     "output_type": "execute_result"
    }
   ],
   "source": [
    "dataset.filter(like = 'address').columns"
   ]
  },
  {
   "cell_type": "code",
   "execution_count": null,
   "metadata": {},
   "outputs": [],
   "source": []
  }
 ],
 "metadata": {
  "kernelspec": {
   "display_name": "Python 3",
   "language": "python",
   "name": "python3"
  },
  "language_info": {
   "codemirror_mode": {
    "name": "ipython",
    "version": 3
   },
   "file_extension": ".py",
   "mimetype": "text/x-python",
   "name": "python",
   "nbconvert_exporter": "python",
   "pygments_lexer": "ipython3",
   "version": "3.7.4"
  }
 },
 "nbformat": 4,
 "nbformat_minor": 2
}
